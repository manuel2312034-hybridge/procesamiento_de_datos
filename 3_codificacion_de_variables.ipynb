{
 "cells": [
  {
   "cell_type": "markdown",
   "id": "fce3d75c-1ef4-423f-ab1e-31c0529dce13",
   "metadata": {},
   "source": [
    "# 3.  Codificación de variables"
   ]
  },
  {
   "cell_type": "markdown",
   "id": "d1be34f8-6c07-4ddc-b3cf-5a4fd77338f8",
   "metadata": {},
   "source": [
    "Conjunto de datos: titanic (incluido en seaborn)\n",
    "\n",
    "Este conjunto de datos es excelente para trabajar con variables categóricas."
   ]
  },
  {
   "cell_type": "code",
   "execution_count": 1,
   "id": "6ed24c9d-eb3a-4d47-b2ea-54bd2506163a",
   "metadata": {},
   "outputs": [],
   "source": [
    "# Importar librerías necesarias\n",
    "import pandas as pd\n",
    "import seaborn as sns\n",
    "from sklearn.preprocessing import LabelEncoder, OneHotEncoder"
   ]
  },
  {
   "cell_type": "code",
   "execution_count": 2,
   "id": "bc01425d-fb27-40fe-96b9-a28675c03cfe",
   "metadata": {},
   "outputs": [],
   "source": [
    "# Cargar el conjunto de datos\n",
    "data = sns.load_dataset('titanic')"
   ]
  },
  {
   "cell_type": "code",
   "execution_count": 3,
   "id": "5283d478-4997-4120-9c3c-d18c2467b09a",
   "metadata": {},
   "outputs": [
    {
     "name": "stdout",
     "output_type": "stream",
     "text": [
      "Conjunto de datos Titanic:\n"
     ]
    },
    {
     "data": {
      "text/html": [
       "<div>\n",
       "<style scoped>\n",
       "    .dataframe tbody tr th:only-of-type {\n",
       "        vertical-align: middle;\n",
       "    }\n",
       "\n",
       "    .dataframe tbody tr th {\n",
       "        vertical-align: top;\n",
       "    }\n",
       "\n",
       "    .dataframe thead th {\n",
       "        text-align: right;\n",
       "    }\n",
       "</style>\n",
       "<table border=\"1\" class=\"dataframe\">\n",
       "  <thead>\n",
       "    <tr style=\"text-align: right;\">\n",
       "      <th></th>\n",
       "      <th>survived</th>\n",
       "      <th>pclass</th>\n",
       "      <th>sex</th>\n",
       "      <th>age</th>\n",
       "      <th>sibsp</th>\n",
       "      <th>parch</th>\n",
       "      <th>fare</th>\n",
       "      <th>embarked</th>\n",
       "      <th>class</th>\n",
       "      <th>who</th>\n",
       "      <th>adult_male</th>\n",
       "      <th>deck</th>\n",
       "      <th>embark_town</th>\n",
       "      <th>alive</th>\n",
       "      <th>alone</th>\n",
       "    </tr>\n",
       "  </thead>\n",
       "  <tbody>\n",
       "    <tr>\n",
       "      <th>0</th>\n",
       "      <td>0</td>\n",
       "      <td>3</td>\n",
       "      <td>male</td>\n",
       "      <td>22.0</td>\n",
       "      <td>1</td>\n",
       "      <td>0</td>\n",
       "      <td>7.2500</td>\n",
       "      <td>S</td>\n",
       "      <td>Third</td>\n",
       "      <td>man</td>\n",
       "      <td>True</td>\n",
       "      <td>NaN</td>\n",
       "      <td>Southampton</td>\n",
       "      <td>no</td>\n",
       "      <td>False</td>\n",
       "    </tr>\n",
       "    <tr>\n",
       "      <th>1</th>\n",
       "      <td>1</td>\n",
       "      <td>1</td>\n",
       "      <td>female</td>\n",
       "      <td>38.0</td>\n",
       "      <td>1</td>\n",
       "      <td>0</td>\n",
       "      <td>71.2833</td>\n",
       "      <td>C</td>\n",
       "      <td>First</td>\n",
       "      <td>woman</td>\n",
       "      <td>False</td>\n",
       "      <td>C</td>\n",
       "      <td>Cherbourg</td>\n",
       "      <td>yes</td>\n",
       "      <td>False</td>\n",
       "    </tr>\n",
       "    <tr>\n",
       "      <th>2</th>\n",
       "      <td>1</td>\n",
       "      <td>3</td>\n",
       "      <td>female</td>\n",
       "      <td>26.0</td>\n",
       "      <td>0</td>\n",
       "      <td>0</td>\n",
       "      <td>7.9250</td>\n",
       "      <td>S</td>\n",
       "      <td>Third</td>\n",
       "      <td>woman</td>\n",
       "      <td>False</td>\n",
       "      <td>NaN</td>\n",
       "      <td>Southampton</td>\n",
       "      <td>yes</td>\n",
       "      <td>True</td>\n",
       "    </tr>\n",
       "    <tr>\n",
       "      <th>3</th>\n",
       "      <td>1</td>\n",
       "      <td>1</td>\n",
       "      <td>female</td>\n",
       "      <td>35.0</td>\n",
       "      <td>1</td>\n",
       "      <td>0</td>\n",
       "      <td>53.1000</td>\n",
       "      <td>S</td>\n",
       "      <td>First</td>\n",
       "      <td>woman</td>\n",
       "      <td>False</td>\n",
       "      <td>C</td>\n",
       "      <td>Southampton</td>\n",
       "      <td>yes</td>\n",
       "      <td>False</td>\n",
       "    </tr>\n",
       "    <tr>\n",
       "      <th>4</th>\n",
       "      <td>0</td>\n",
       "      <td>3</td>\n",
       "      <td>male</td>\n",
       "      <td>35.0</td>\n",
       "      <td>0</td>\n",
       "      <td>0</td>\n",
       "      <td>8.0500</td>\n",
       "      <td>S</td>\n",
       "      <td>Third</td>\n",
       "      <td>man</td>\n",
       "      <td>True</td>\n",
       "      <td>NaN</td>\n",
       "      <td>Southampton</td>\n",
       "      <td>no</td>\n",
       "      <td>True</td>\n",
       "    </tr>\n",
       "  </tbody>\n",
       "</table>\n",
       "</div>"
      ],
      "text/plain": [
       "   survived  pclass     sex   age  sibsp  parch     fare embarked  class  \\\n",
       "0         0       3    male  22.0      1      0   7.2500        S  Third   \n",
       "1         1       1  female  38.0      1      0  71.2833        C  First   \n",
       "2         1       3  female  26.0      0      0   7.9250        S  Third   \n",
       "3         1       1  female  35.0      1      0  53.1000        S  First   \n",
       "4         0       3    male  35.0      0      0   8.0500        S  Third   \n",
       "\n",
       "     who  adult_male deck  embark_town alive  alone  \n",
       "0    man        True  NaN  Southampton    no  False  \n",
       "1  woman       False    C    Cherbourg   yes  False  \n",
       "2  woman       False  NaN  Southampton   yes   True  \n",
       "3  woman       False    C  Southampton   yes  False  \n",
       "4    man        True  NaN  Southampton    no   True  "
      ]
     },
     "execution_count": 3,
     "metadata": {},
     "output_type": "execute_result"
    }
   ],
   "source": [
    "# Visualizar las primeras filas\n",
    "print(\"Conjunto de datos Titanic:\")\n",
    "data.head()"
   ]
  },
  {
   "cell_type": "code",
   "execution_count": 4,
   "id": "51d50daf-12e7-489c-9e9b-1deb85b4dac8",
   "metadata": {},
   "outputs": [],
   "source": [
    "# Seleccionar columnas categóricas\n",
    "categorical_cols = ['sex', 'embarked', 'class']"
   ]
  },
  {
   "cell_type": "code",
   "execution_count": 5,
   "id": "665c4f87-6d58-4e54-9cb2-7593c108ec30",
   "metadata": {},
   "outputs": [],
   "source": [
    "# Codificar con LabelEncoder\n",
    "label_encoder = LabelEncoder()\n",
    "data['sex_label'] = label_encoder.fit_transform(data['sex'])"
   ]
  },
  {
   "cell_type": "code",
   "execution_count": 6,
   "id": "808cb0a0-1b63-4075-be0d-46d28fccae1d",
   "metadata": {},
   "outputs": [],
   "source": [
    "# Codificar con OneHotEncoder\n",
    "onehot_encoder = pd.get_dummies(data['embarked'], prefix='embarked')"
   ]
  },
  {
   "cell_type": "code",
   "execution_count": 11,
   "id": "466e25c9-f054-428d-9589-3b898d921e27",
   "metadata": {},
   "outputs": [],
   "source": [
    "# Combinar con el conjunto original\n",
    "data = pd.concat([data, onehot_encoder], axis=1)"
   ]
  },
  {
   "cell_type": "markdown",
   "id": "f394aa58-fcd8-4785-a3bf-61fde5ecd4b8",
   "metadata": {},
   "source": [
    "# Ejercicios\n",
    "Contesta las siguientes preguntas. Para cada pregunta, deberás escribir código que demostrará cómo llegaste al resultado. Crea gráficas en donde veas correcto."
   ]
  },
  {
   "cell_type": "markdown",
   "id": "a0562244-8803-4b63-a2b6-377ed1478c7d",
   "metadata": {},
   "source": [
    "### 1. ¿Qué diferencias encuentras entre LabelEncoder y OneHotEncoder?"
   ]
  },
  {
   "cell_type": "markdown",
   "id": "50c0a423-4a23-4794-b9d0-faff4cc81bf2",
   "metadata": {},
   "source": [
    "label encoder asignara un valor numerico a cada categoria, en este caso como solo hay 2 sexos (no me funen, es lo que dice el dataset) entonces seran mapeados a una unica variable con valores de 0 y 1. En el caso del One hot encoder generara n columnas diferentes y le asignara un 1 a la columna que correponda a la categoria mientras que dejara en 0 las demas."
   ]
  },
  {
   "cell_type": "markdown",
   "id": "4817efb6-83e6-47cd-b8b6-b17a2df381db",
   "metadata": {},
   "source": [
    "### 2. Crea una gráfica de barras comparando las frecuencias de 'sex' antes y después de la codificación con LabelEncoder."
   ]
  },
  {
   "cell_type": "code",
   "execution_count": 28,
   "id": "8f74141e-e338-4841-93d7-c23bcf92d854",
   "metadata": {},
   "outputs": [
    {
     "data": {
      "image/png": "[encoded data removed]",
      "text/plain": [
       "<Figure size 640x480 with 2 Axes>"
      ]
     },
     "metadata": {},
     "output_type": "display_data"
    }
   ],
   "source": [
    "plt.figure()\n",
    "\n",
    "plt.subplot(1, 3, 1)\n",
    "sns.countplot(data=data, x=\"sex\")\n",
    "plt.title(\"antes\")\n",
    "plt.grid(True, axis=\"y\")\n",
    "plt.subplot(1, 3, 3)\n",
    "sns.countplot(data=data, x=\"sex_label\")\n",
    "plt.title(\"despues\")\n",
    "plt.grid(True, axis=\"y\")\n",
    "plt.show()"
   ]
  },
  {
   "cell_type": "markdown",
   "id": "ae3a78d3-b7ce-4930-af2e-be0d8a8aac1f",
   "metadata": {},
   "source": [
    "### 3. Utiliza OneHotEncoder para codificar la columna 'class'. ¿Qué ventajas tiene este enfoque frente a LabelEncoder?"
   ]
  },
  {
   "cell_type": "code",
   "execution_count": 31,
   "id": "e09b050a-ef42-4585-8497-760485426793",
   "metadata": {},
   "outputs": [
    {
     "data": {
      "text/html": [
       "<div>\n",
       "<style scoped>\n",
       "    .dataframe tbody tr th:only-of-type {\n",
       "        vertical-align: middle;\n",
       "    }\n",
       "\n",
       "    .dataframe tbody tr th {\n",
       "        vertical-align: top;\n",
       "    }\n",
       "\n",
       "    .dataframe thead th {\n",
       "        text-align: right;\n",
       "    }\n",
       "</style>\n",
       "<table border=\"1\" class=\"dataframe\">\n",
       "  <thead>\n",
       "    <tr style=\"text-align: right;\">\n",
       "      <th></th>\n",
       "      <th>class_First</th>\n",
       "      <th>class_Second</th>\n",
       "      <th>class_Third</th>\n",
       "    </tr>\n",
       "  </thead>\n",
       "  <tbody>\n",
       "    <tr>\n",
       "      <th>0</th>\n",
       "      <td>False</td>\n",
       "      <td>False</td>\n",
       "      <td>True</td>\n",
       "    </tr>\n",
       "    <tr>\n",
       "      <th>1</th>\n",
       "      <td>True</td>\n",
       "      <td>False</td>\n",
       "      <td>False</td>\n",
       "    </tr>\n",
       "    <tr>\n",
       "      <th>2</th>\n",
       "      <td>False</td>\n",
       "      <td>False</td>\n",
       "      <td>True</td>\n",
       "    </tr>\n",
       "    <tr>\n",
       "      <th>3</th>\n",
       "      <td>True</td>\n",
       "      <td>False</td>\n",
       "      <td>False</td>\n",
       "    </tr>\n",
       "    <tr>\n",
       "      <th>4</th>\n",
       "      <td>False</td>\n",
       "      <td>False</td>\n",
       "      <td>True</td>\n",
       "    </tr>\n",
       "  </tbody>\n",
       "</table>\n",
       "</div>"
      ],
      "text/plain": [
       "   class_First  class_Second  class_Third\n",
       "0        False         False         True\n",
       "1         True         False        False\n",
       "2        False         False         True\n",
       "3         True         False        False\n",
       "4        False         False         True"
      ]
     },
     "execution_count": 31,
     "metadata": {},
     "output_type": "execute_result"
    }
   ],
   "source": [
    "# Codificar con OneHotEncoder\n",
    "class_one_hot = pd.get_dummies(data['class'], prefix='class')\n",
    "class_one_hot.head()"
   ]
  },
  {
   "cell_type": "markdown",
   "id": "d1455193-3916-4033-8725-45a3fcd2d4af",
   "metadata": {},
   "source": [
    "en el caso de las variables cuyas categorias no guardan una relacion ordinal (ejemplo pequeño, mediano, grande) usar el label encoder tiene poco sentido, usar one hot encoding tiene la propiedad de que los vectores de las categorias son ortogonales y por lo tanto linealmente idenpendiente. algo que que muchos algoritmos de machine learning aprovechan bastante a la hora del aprendizaje e inferencia"
   ]
  },
  {
   "cell_type": "markdown",
   "id": "9e152d15-f997-40b9-be27-c3387f3f2fde",
   "metadata": {},
   "source": [
    "### 4. Si quisieras aplicar un modelo de aprendizaje automático, ¿qué tipo de codificación elegirías para las variables categóricas? Explica tu respuesta."
   ]
  },
  {
   "cell_type": "markdown",
   "id": "e97e8bea-f565-4a1c-9648-6b98cfe0744b",
   "metadata": {},
   "source": [
    "teniendo en cuenta la respuesta anterior: si es ordinal el label encoding, si es categorica entonces el one hot encoding, si la variable tuviera una cardinalidad alta ejemplo palabras para un modelo llm entonces un embedding."
   ]
  }
 ],
 "metadata": {
  "kernelspec": {
   "display_name": "Python 3 (ipykernel)",
   "language": "python",
   "name": "python3"
  },
  "language_info": {
   "codemirror_mode": {
    "name": "ipython",
    "version": 3
   },
   "file_extension": ".py",
   "mimetype": "text/x-python",
   "name": "python",
   "nbconvert_exporter": "python",
   "pygments_lexer": "ipython3",
   "version": "3.12.10"
  }
 },
 "nbformat": 4,
 "nbformat_minor": 5
}
