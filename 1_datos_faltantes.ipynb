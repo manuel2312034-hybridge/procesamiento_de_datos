{
 "cells": [
  {
   "cell_type": "markdown",
   "id": "fb44f8fb-17b1-4ad6-8829-d66c86b98c4b",
   "metadata": {},
   "source": [
    "# Datos Faltantes"
   ]
  },
  {
   "cell_type": "code",
   "execution_count": 1,
   "id": "01148085-3966-4035-a659-582d0e20bb3c",
   "metadata": {},
   "outputs": [],
   "source": [
    "# Importar librerías necesarias\n",
    "import pandas as pd\n",
    "import numpy as np\n",
    "from sklearn.datasets import load_diabetes\n",
    "from sklearn.impute import SimpleImputer, KNNImputer\n",
    "import matplotlib.pyplot as plt\n",
    "import seaborn as sns"
   ]
  },
  {
   "cell_type": "code",
   "execution_count": 2,
   "id": "de071a79-ce2b-4444-85e8-a5f62a391a23",
   "metadata": {},
   "outputs": [],
   "source": [
    "# Cargar el conjunto de datos\n",
    "diabetes = load_diabetes(as_frame=True)\n",
    "data = diabetes.data\n",
    "data['target'] = diabetes.target"
   ]
  },
  {
   "cell_type": "code",
   "execution_count": 3,
   "id": "869fa768-bc98-4d81-ae5b-2ab6b9b3c80b",
   "metadata": {},
   "outputs": [
    {
     "data": {
      "text/html": [
       "<div>\n",
       "<style scoped>\n",
       "    .dataframe tbody tr th:only-of-type {\n",
       "        vertical-align: middle;\n",
       "    }\n",
       "\n",
       "    .dataframe tbody tr th {\n",
       "        vertical-align: top;\n",
       "    }\n",
       "\n",
       "    .dataframe thead th {\n",
       "        text-align: right;\n",
       "    }\n",
       "</style>\n",
       "<table border=\"1\" class=\"dataframe\">\n",
       "  <thead>\n",
       "    <tr style=\"text-align: right;\">\n",
       "      <th></th>\n",
       "      <th>age</th>\n",
       "      <th>sex</th>\n",
       "      <th>bmi</th>\n",
       "      <th>bp</th>\n",
       "      <th>s1</th>\n",
       "      <th>s2</th>\n",
       "      <th>s3</th>\n",
       "      <th>s4</th>\n",
       "      <th>s5</th>\n",
       "      <th>s6</th>\n",
       "      <th>target</th>\n",
       "    </tr>\n",
       "  </thead>\n",
       "  <tbody>\n",
       "    <tr>\n",
       "      <th>179</th>\n",
       "      <td>-0.023677</td>\n",
       "      <td>-0.044642</td>\n",
       "      <td>-0.015906</td>\n",
       "      <td>-0.012556</td>\n",
       "      <td>0.020446</td>\n",
       "      <td>0.041274</td>\n",
       "      <td>-0.043401</td>\n",
       "      <td>0.034309</td>\n",
       "      <td>0.014074</td>\n",
       "      <td>-0.009362</td>\n",
       "      <td>151.0</td>\n",
       "    </tr>\n",
       "    <tr>\n",
       "      <th>381</th>\n",
       "      <td>-0.070900</td>\n",
       "      <td>0.050680</td>\n",
       "      <td>-0.089197</td>\n",
       "      <td>-0.074527</td>\n",
       "      <td>-0.042848</td>\n",
       "      <td>-0.025739</td>\n",
       "      <td>-0.032356</td>\n",
       "      <td>-0.002592</td>\n",
       "      <td>-0.012909</td>\n",
       "      <td>-0.054925</td>\n",
       "      <td>104.0</td>\n",
       "    </tr>\n",
       "    <tr>\n",
       "      <th>435</th>\n",
       "      <td>-0.012780</td>\n",
       "      <td>-0.044642</td>\n",
       "      <td>-0.023451</td>\n",
       "      <td>-0.040099</td>\n",
       "      <td>-0.016704</td>\n",
       "      <td>0.004636</td>\n",
       "      <td>-0.017629</td>\n",
       "      <td>-0.002592</td>\n",
       "      <td>-0.038460</td>\n",
       "      <td>-0.038357</td>\n",
       "      <td>64.0</td>\n",
       "    </tr>\n",
       "    <tr>\n",
       "      <th>44</th>\n",
       "      <td>0.045341</td>\n",
       "      <td>0.050680</td>\n",
       "      <td>0.068163</td>\n",
       "      <td>0.008101</td>\n",
       "      <td>-0.016704</td>\n",
       "      <td>0.004636</td>\n",
       "      <td>-0.076536</td>\n",
       "      <td>0.071210</td>\n",
       "      <td>0.032432</td>\n",
       "      <td>-0.017646</td>\n",
       "      <td>259.0</td>\n",
       "    </tr>\n",
       "    <tr>\n",
       "      <th>127</th>\n",
       "      <td>0.034443</td>\n",
       "      <td>0.050680</td>\n",
       "      <td>-0.001895</td>\n",
       "      <td>-0.012556</td>\n",
       "      <td>0.038334</td>\n",
       "      <td>0.013717</td>\n",
       "      <td>0.078093</td>\n",
       "      <td>-0.039493</td>\n",
       "      <td>0.004548</td>\n",
       "      <td>-0.096346</td>\n",
       "      <td>109.0</td>\n",
       "    </tr>\n",
       "    <tr>\n",
       "      <th>385</th>\n",
       "      <td>0.023546</td>\n",
       "      <td>0.050680</td>\n",
       "      <td>-0.019140</td>\n",
       "      <td>0.049415</td>\n",
       "      <td>-0.063487</td>\n",
       "      <td>-0.061125</td>\n",
       "      <td>0.004460</td>\n",
       "      <td>-0.039493</td>\n",
       "      <td>-0.025953</td>\n",
       "      <td>-0.013504</td>\n",
       "      <td>219.0</td>\n",
       "    </tr>\n",
       "    <tr>\n",
       "      <th>357</th>\n",
       "      <td>-0.060003</td>\n",
       "      <td>0.050680</td>\n",
       "      <td>0.049840</td>\n",
       "      <td>0.018430</td>\n",
       "      <td>-0.016704</td>\n",
       "      <td>-0.030124</td>\n",
       "      <td>-0.017629</td>\n",
       "      <td>-0.002592</td>\n",
       "      <td>0.049770</td>\n",
       "      <td>-0.059067</td>\n",
       "      <td>221.0</td>\n",
       "    </tr>\n",
       "    <tr>\n",
       "      <th>178</th>\n",
       "      <td>0.041708</td>\n",
       "      <td>-0.044642</td>\n",
       "      <td>-0.008362</td>\n",
       "      <td>-0.026328</td>\n",
       "      <td>0.024574</td>\n",
       "      <td>0.016222</td>\n",
       "      <td>0.070730</td>\n",
       "      <td>-0.039493</td>\n",
       "      <td>-0.048359</td>\n",
       "      <td>-0.030072</td>\n",
       "      <td>81.0</td>\n",
       "    </tr>\n",
       "    <tr>\n",
       "      <th>300</th>\n",
       "      <td>0.016281</td>\n",
       "      <td>-0.044642</td>\n",
       "      <td>0.073552</td>\n",
       "      <td>-0.041235</td>\n",
       "      <td>-0.004321</td>\n",
       "      <td>-0.013527</td>\n",
       "      <td>-0.013948</td>\n",
       "      <td>-0.001116</td>\n",
       "      <td>0.042897</td>\n",
       "      <td>0.044485</td>\n",
       "      <td>275.0</td>\n",
       "    </tr>\n",
       "    <tr>\n",
       "      <th>8</th>\n",
       "      <td>0.041708</td>\n",
       "      <td>0.050680</td>\n",
       "      <td>0.061696</td>\n",
       "      <td>-0.040099</td>\n",
       "      <td>-0.013953</td>\n",
       "      <td>0.006202</td>\n",
       "      <td>-0.028674</td>\n",
       "      <td>-0.002592</td>\n",
       "      <td>-0.014960</td>\n",
       "      <td>0.011349</td>\n",
       "      <td>110.0</td>\n",
       "    </tr>\n",
       "  </tbody>\n",
       "</table>\n",
       "</div>"
      ],
      "text/plain": [
       "          age       sex       bmi        bp        s1        s2        s3  \\\n",
       "179 -0.023677 -0.044642 -0.015906 -0.012556  0.020446  0.041274 -0.043401   \n",
       "381 -0.070900  0.050680 -0.089197 -0.074527 -0.042848 -0.025739 -0.032356   \n",
       "435 -0.012780 -0.044642 -0.023451 -0.040099 -0.016704  0.004636 -0.017629   \n",
       "44   0.045341  0.050680  0.068163  0.008101 -0.016704  0.004636 -0.076536   \n",
       "127  0.034443  0.050680 -0.001895 -0.012556  0.038334  0.013717  0.078093   \n",
       "385  0.023546  0.050680 -0.019140  0.049415 -0.063487 -0.061125  0.004460   \n",
       "357 -0.060003  0.050680  0.049840  0.018430 -0.016704 -0.030124 -0.017629   \n",
       "178  0.041708 -0.044642 -0.008362 -0.026328  0.024574  0.016222  0.070730   \n",
       "300  0.016281 -0.044642  0.073552 -0.041235 -0.004321 -0.013527 -0.013948   \n",
       "8    0.041708  0.050680  0.061696 -0.040099 -0.013953  0.006202 -0.028674   \n",
       "\n",
       "           s4        s5        s6  target  \n",
       "179  0.034309  0.014074 -0.009362   151.0  \n",
       "381 -0.002592 -0.012909 -0.054925   104.0  \n",
       "435 -0.002592 -0.038460 -0.038357    64.0  \n",
       "44   0.071210  0.032432 -0.017646   259.0  \n",
       "127 -0.039493  0.004548 -0.096346   109.0  \n",
       "385 -0.039493 -0.025953 -0.013504   219.0  \n",
       "357 -0.002592  0.049770 -0.059067   221.0  \n",
       "178 -0.039493 -0.048359 -0.030072    81.0  \n",
       "300 -0.001116  0.042897  0.044485   275.0  \n",
       "8   -0.002592 -0.014960  0.011349   110.0  "
      ]
     },
     "execution_count": 3,
     "metadata": {},
     "output_type": "execute_result"
    }
   ],
   "source": [
    "data.sample(10)"
   ]
  },
  {
   "cell_type": "code",
   "execution_count": 4,
   "id": "42ce3a53-c8d5-4f1b-b94b-22f207199269",
   "metadata": {},
   "outputs": [],
   "source": [
    "# Simular valores faltantes\n",
    "np.random.seed(42)\n",
    "data.loc[data.sample(frac=0.1).index, 'bmi'] = np.nan\n",
    "data.loc[data.sample(frac=0.1).index, 'bp'] = np.nan"
   ]
  },
  {
   "cell_type": "code",
   "execution_count": null,
   "id": "e2c0306f-5105-47dd-967d-c5c06dd73c4a",
   "metadata": {},
   "outputs": [],
   "source": []
  },
  {
   "cell_type": "markdown",
   "id": "e5636cb1-845e-4fa5-8f34-2449fe01faa9",
   "metadata": {},
   "source": [
    "# Ejercicios\n",
    "Contesta las siguientes preguntas. Para cada pregunta, deberás escribir código que demostrará cómo llegaste al resultado:"
   ]
  },
  {
   "cell_type": "markdown",
   "id": "0a01b889-f67d-44ba-a104-d4bf1bda5288",
   "metadata": {},
   "source": [
    "### 1. ¿Cuántos valores faltantes hay en cada columna?**"
   ]
  },
  {
   "cell_type": "code",
   "execution_count": 5,
   "id": "826948b0-74e5-4edc-9380-ddddd4a0cbad",
   "metadata": {},
   "outputs": [
    {
     "data": {
      "text/plain": [
       "age        0\n",
       "sex        0\n",
       "bmi       44\n",
       "bp        44\n",
       "s1         0\n",
       "s2         0\n",
       "s3         0\n",
       "s4         0\n",
       "s5         0\n",
       "s6         0\n",
       "target     0\n",
       "dtype: int64"
      ]
     },
     "execution_count": 5,
     "metadata": {},
     "output_type": "execute_result"
    }
   ],
   "source": [
    "data.isnull().sum()"
   ]
  },
  {
   "cell_type": "markdown",
   "id": "08aedf31-efe1-4112-9f98-1bdf2f42ec04",
   "metadata": {},
   "source": [
    "### 2. Utiliza imputación simple (media) para llenar los valores faltantes de la columna 'bmi'."
   ]
  },
  {
   "cell_type": "code",
   "execution_count": 6,
   "id": "16b6eeaa-6901-4216-a6d2-f13f228687d0",
   "metadata": {},
   "outputs": [],
   "source": [
    "from sklearn.impute import SimpleImputer\n",
    "imputer = SimpleImputer(strategy='mean')\n",
    "data[['bmi_simple']] = imputer.fit_transform(data[['bmi']])"
   ]
  },
  {
   "cell_type": "markdown",
   "id": "2b99cbfe-4790-4db4-a817-61228a201320",
   "metadata": {},
   "source": [
    "### 3. Utiliza KNNImputer para imputar valores en las columnas 'bmi' y 'bp'. Compara los resultados con los de la imputación simple."
   ]
  },
  {
   "cell_type": "code",
   "execution_count": 7,
   "id": "23b0d053-f30a-46a5-b640-c80153acd80a",
   "metadata": {},
   "outputs": [],
   "source": [
    "from sklearn.impute import KNNImputer\n",
    "knn_imputer = KNNImputer(n_neighbors=2)\n",
    "data[['bmi_knn', 'bp_knn']] = knn_imputer.fit_transform(data[['bmi', 'bp']])"
   ]
  },
  {
   "cell_type": "code",
   "execution_count": 8,
   "id": "187377bc-497b-40a3-ab29-c87f1815665c",
   "metadata": {},
   "outputs": [
    {
     "data": {
      "text/html": [
       "<div>\n",
       "<style scoped>\n",
       "    .dataframe tbody tr th:only-of-type {\n",
       "        vertical-align: middle;\n",
       "    }\n",
       "\n",
       "    .dataframe tbody tr th {\n",
       "        vertical-align: top;\n",
       "    }\n",
       "\n",
       "    .dataframe thead th {\n",
       "        text-align: right;\n",
       "    }\n",
       "</style>\n",
       "<table border=\"1\" class=\"dataframe\">\n",
       "  <thead>\n",
       "    <tr style=\"text-align: right;\">\n",
       "      <th></th>\n",
       "      <th>bmi</th>\n",
       "      <th>bmi_simple</th>\n",
       "      <th>bmi_knn</th>\n",
       "    </tr>\n",
       "  </thead>\n",
       "  <tbody>\n",
       "    <tr>\n",
       "      <th>9</th>\n",
       "      <td>NaN</td>\n",
       "      <td>-0.000205</td>\n",
       "      <td>-0.011595</td>\n",
       "    </tr>\n",
       "    <tr>\n",
       "      <th>30</th>\n",
       "      <td>NaN</td>\n",
       "      <td>-0.000205</td>\n",
       "      <td>-0.000205</td>\n",
       "    </tr>\n",
       "    <tr>\n",
       "      <th>39</th>\n",
       "      <td>NaN</td>\n",
       "      <td>-0.000205</td>\n",
       "      <td>-0.000205</td>\n",
       "    </tr>\n",
       "    <tr>\n",
       "      <th>55</th>\n",
       "      <td>NaN</td>\n",
       "      <td>-0.000205</td>\n",
       "      <td>-0.001895</td>\n",
       "    </tr>\n",
       "    <tr>\n",
       "      <th>70</th>\n",
       "      <td>NaN</td>\n",
       "      <td>-0.000205</td>\n",
       "      <td>0.017506</td>\n",
       "    </tr>\n",
       "  </tbody>\n",
       "</table>\n",
       "</div>"
      ],
      "text/plain": [
       "    bmi  bmi_simple   bmi_knn\n",
       "9   NaN   -0.000205 -0.011595\n",
       "30  NaN   -0.000205 -0.000205\n",
       "39  NaN   -0.000205 -0.000205\n",
       "55  NaN   -0.000205 -0.001895\n",
       "70  NaN   -0.000205  0.017506"
      ]
     },
     "execution_count": 8,
     "metadata": {},
     "output_type": "execute_result"
    }
   ],
   "source": [
    "comparison = data.loc[data['bmi'].isnull(), ['bmi', 'bmi_simple', 'bmi_knn']]\n",
    "comparison.head()"
   ]
  },
  {
   "cell_type": "markdown",
   "id": "9b3b6f25-1965-44cf-ab21-4fc94fae9597",
   "metadata": {},
   "source": [
    "### 4. Genera un histograma comparando los datos antes y después de la imputación en la columna 'bmi'."
   ]
  },
  {
   "cell_type": "code",
   "execution_count": 10,
   "id": "7a7485b3-eb4b-4487-aa04-df235c17bda7",
   "metadata": {},
   "outputs": [
    {
     "data": {
      "image/png": "[encoded data removed]",
      "text/plain": [
       "<Figure size 640x480 with 1 Axes>"
      ]
     },
     "metadata": {},
     "output_type": "display_data"
    }
   ],
   "source": [
    "import matplotlib.pyplot as plt\n",
    "\n",
    "plt.figure()\n",
    "bins = 50\n",
    "plt.hist(data['bmi'].dropna(), bins=bins, alpha=0.3, label='bmi')\n",
    "plt.hist(data['bmi_simple'], bins=bins, alpha=0.3, label='bmi_simple')\n",
    "plt.hist(data['bmi_knn'], bins=bins, alpha=0.3, label='bmi_knn')\n",
    "plt.legend()\n",
    "plt.show()"
   ]
  },
  {
   "cell_type": "code",
   "execution_count": null,
   "id": "5e4f881e-ed71-4c4a-82fb-6864c3b1eb9f",
   "metadata": {},
   "outputs": [],
   "source": []
  }
 ],
 "metadata": {
  "kernelspec": {
   "display_name": "Python 3 (ipykernel)",
   "language": "python",
   "name": "python3"
  },
  "language_info": {
   "codemirror_mode": {
    "name": "ipython",
    "version": 3
   },
   "file_extension": ".py",
   "mimetype": "text/x-python",
   "name": "python",
   "nbconvert_exporter": "python",
   "pygments_lexer": "ipython3",
   "version": "3.12.10"
  }
 },
 "nbformat": 4,
 "nbformat_minor": 5
}
